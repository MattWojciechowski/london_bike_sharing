{
 "cells": [
  {
   "cell_type": "markdown",
   "metadata": {},
   "source": []
  },
  {
   "cell_type": "code",
   "execution_count": 4,
   "metadata": {},
   "outputs": [
    {
     "data": {
      "text/html": [
       "<div>\n",
       "<style scoped>\n",
       "    .dataframe tbody tr th:only-of-type {\n",
       "        vertical-align: middle;\n",
       "    }\n",
       "\n",
       "    .dataframe tbody tr th {\n",
       "        vertical-align: top;\n",
       "    }\n",
       "\n",
       "    .dataframe thead th {\n",
       "        text-align: right;\n",
       "    }\n",
       "</style>\n",
       "<table border=\"1\" class=\"dataframe\">\n",
       "  <thead>\n",
       "    <tr style=\"text-align: right;\">\n",
       "      <th></th>\n",
       "      <th>cnt</th>\n",
       "      <th>t1</th>\n",
       "      <th>t2</th>\n",
       "      <th>hum</th>\n",
       "      <th>wind_speed</th>\n",
       "      <th>weather_code</th>\n",
       "      <th>is_holiday</th>\n",
       "      <th>is_weekend</th>\n",
       "      <th>season</th>\n",
       "      <th>month</th>\n",
       "      <th>day</th>\n",
       "      <th>weekday</th>\n",
       "      <th>hour</th>\n",
       "    </tr>\n",
       "  </thead>\n",
       "  <tbody>\n",
       "    <tr>\n",
       "      <th>0</th>\n",
       "      <td>182</td>\n",
       "      <td>3.0</td>\n",
       "      <td>2.0</td>\n",
       "      <td>93.0</td>\n",
       "      <td>6.0</td>\n",
       "      <td>3.0</td>\n",
       "      <td>0.0</td>\n",
       "      <td>1.0</td>\n",
       "      <td>3.0</td>\n",
       "      <td>1</td>\n",
       "      <td>4</td>\n",
       "      <td>6</td>\n",
       "      <td>0</td>\n",
       "    </tr>\n",
       "    <tr>\n",
       "      <th>1</th>\n",
       "      <td>138</td>\n",
       "      <td>3.0</td>\n",
       "      <td>2.5</td>\n",
       "      <td>93.0</td>\n",
       "      <td>5.0</td>\n",
       "      <td>1.0</td>\n",
       "      <td>0.0</td>\n",
       "      <td>1.0</td>\n",
       "      <td>3.0</td>\n",
       "      <td>1</td>\n",
       "      <td>4</td>\n",
       "      <td>6</td>\n",
       "      <td>1</td>\n",
       "    </tr>\n",
       "    <tr>\n",
       "      <th>2</th>\n",
       "      <td>134</td>\n",
       "      <td>2.5</td>\n",
       "      <td>2.5</td>\n",
       "      <td>96.5</td>\n",
       "      <td>0.0</td>\n",
       "      <td>1.0</td>\n",
       "      <td>0.0</td>\n",
       "      <td>1.0</td>\n",
       "      <td>3.0</td>\n",
       "      <td>1</td>\n",
       "      <td>4</td>\n",
       "      <td>6</td>\n",
       "      <td>2</td>\n",
       "    </tr>\n",
       "    <tr>\n",
       "      <th>3</th>\n",
       "      <td>72</td>\n",
       "      <td>2.0</td>\n",
       "      <td>2.0</td>\n",
       "      <td>100.0</td>\n",
       "      <td>0.0</td>\n",
       "      <td>1.0</td>\n",
       "      <td>0.0</td>\n",
       "      <td>1.0</td>\n",
       "      <td>3.0</td>\n",
       "      <td>1</td>\n",
       "      <td>4</td>\n",
       "      <td>6</td>\n",
       "      <td>3</td>\n",
       "    </tr>\n",
       "    <tr>\n",
       "      <th>4</th>\n",
       "      <td>47</td>\n",
       "      <td>2.0</td>\n",
       "      <td>0.0</td>\n",
       "      <td>93.0</td>\n",
       "      <td>6.5</td>\n",
       "      <td>1.0</td>\n",
       "      <td>0.0</td>\n",
       "      <td>1.0</td>\n",
       "      <td>3.0</td>\n",
       "      <td>1</td>\n",
       "      <td>4</td>\n",
       "      <td>6</td>\n",
       "      <td>4</td>\n",
       "    </tr>\n",
       "  </tbody>\n",
       "</table>\n",
       "</div>"
      ],
      "text/plain": [
       "   cnt   t1   t2    hum  wind_speed  weather_code  is_holiday  is_weekend  \\\n",
       "0  182  3.0  2.0   93.0         6.0           3.0         0.0         1.0   \n",
       "1  138  3.0  2.5   93.0         5.0           1.0         0.0         1.0   \n",
       "2  134  2.5  2.5   96.5         0.0           1.0         0.0         1.0   \n",
       "3   72  2.0  2.0  100.0         0.0           1.0         0.0         1.0   \n",
       "4   47  2.0  0.0   93.0         6.5           1.0         0.0         1.0   \n",
       "\n",
       "   season  month  day  weekday  hour  \n",
       "0     3.0      1    4        6     0  \n",
       "1     3.0      1    4        6     1  \n",
       "2     3.0      1    4        6     2  \n",
       "3     3.0      1    4        6     3  \n",
       "4     3.0      1    4        6     4  "
      ]
     },
     "execution_count": 4,
     "metadata": {},
     "output_type": "execute_result"
    }
   ],
   "source": [
    "# Import necessary libraries\n",
    "import pandas as pd\n",
    "import numpy as np\n",
    "from sklearn.model_selection import train_test_split, GridSearchCV, cross_val_score, KFold\n",
    "from sklearn.preprocessing import StandardScaler\n",
    "from sklearn.metrics import mean_squared_error, mean_absolute_error, r2_score, explained_variance_score\n",
    "from sklearn.linear_model import LinearRegression, Ridge, Lasso, ElasticNet\n",
    "from sklearn.ensemble import RandomForestRegressor, GradientBoostingRegressor\n",
    "from sklearn.svm import SVR\n",
    "from sklearn.tree import DecisionTreeRegressor\n",
    "import xgboost as xgb\n",
    "import matplotlib.pyplot as plt\n",
    "\n",
    "# Load processed dataset\n",
    "data_path = \"../data/processed_dataset.csv\"\n",
    "df = pd.read_csv(data_path)\n",
    "\n",
    "# Display the first few rows\n",
    "df.head()\n"
   ]
  },
  {
   "cell_type": "code",
   "execution_count": 5,
   "metadata": {},
   "outputs": [
    {
     "name": "stdout",
     "output_type": "stream",
     "text": [
      "Training set: X_train=(13931, 12), y_train=(13931,)\n",
      "Testing set: X_test=(3483, 12), y_test=(3483,)\n"
     ]
    }
   ],
   "source": [
    "# User-defined parameters\n",
    "rand_state = 42  # Random seed\n",
    "cv_num = 5       # Number of folds in cross-validation\n",
    "\n",
    "# Define target and features\n",
    "target = \"cnt\"\n",
    "features = [col for col in df.columns if col != target]\n",
    "\n",
    "# Normalize features\n",
    "scaler = StandardScaler()\n",
    "df[features] = scaler.fit_transform(df[features])\n",
    "\n",
    "# Split the data into training and testing sets\n",
    "X = df[features]\n",
    "y = df[target]\n",
    "X_train, X_test, y_train, y_test = train_test_split(X, y, test_size=0.2, random_state=rand_state)\n",
    "\n",
    "# Display the shape of the datasets\n",
    "print(f\"Training set: X_train={X_train.shape}, y_train={y_train.shape}\")\n",
    "print(f\"Testing set: X_test={X_test.shape}, y_test={y_test.shape}\")"
   ]
  },
  {
   "cell_type": "code",
   "execution_count": 6,
   "metadata": {},
   "outputs": [],
   "source": [
    "# Define models with default hyperparameters\n",
    "models = {\n",
    "    'Linear Regression': LinearRegression(),\n",
    "    'Ridge': Ridge(alpha=1, random_state=rand_state),\n",
    "    'Lasso': Lasso(alpha=0.1),\n",
    "    'Elastic Net': ElasticNet(alpha=0.1, l1_ratio=0.7),\n",
    "    'Random Forest': RandomForestRegressor(n_estimators=100, max_depth=10, random_state=rand_state),\n",
    "    'Gradient Boosting': GradientBoostingRegressor(n_estimators=100, learning_rate=0.1, max_depth=3, random_state=rand_state),\n",
    "    'XGBoost': xgb.XGBRegressor(objective='reg:squarederror', n_estimators=100, learning_rate=0.1, max_depth=3, random_state=rand_state),\n",
    "    'SVR (RBF Kernel)': SVR(kernel='rbf', C=100, gamma='scale'),\n",
    "    'Decision Tree': DecisionTreeRegressor(max_depth=5, random_state=rand_state)\n",
    "}"
   ]
  },
  {
   "cell_type": "code",
   "execution_count": 7,
   "metadata": {},
   "outputs": [],
   "source": [
    "# Function to evaluate models using cross-validation\n",
    "def evaluate_model(model, X, y):\n",
    "    cv = KFold(n_splits=cv_num, shuffle=True, random_state=rand_state)\n",
    "    scores = cross_val_score(model, X, y, cv=cv, scoring='neg_root_mean_squared_error')\n",
    "    return -scores.mean()  # Return the mean negative RMSE\n"
   ]
  },
  {
   "cell_type": "code",
   "execution_count": 5,
   "metadata": {},
   "outputs": [
    {
     "name": "stdout",
     "output_type": "stream",
     "text": [
      "Model performance (RMSE):\n",
      "Random Forest: RMSE = 265.1284\n",
      "Gradient Boosting: RMSE = 372.4465\n",
      "XGBoost: RMSE = 372.8290\n",
      "Decision Tree: RMSE = 625.2938\n",
      "SVR (RBF Kernel): RMSE = 841.9162\n",
      "Lasso: RMSE = 901.4076\n",
      "Ridge: RMSE = 901.4079\n",
      "Linear Regression: RMSE = 901.4084\n",
      "Elastic Net: RMSE = 901.8864\n"
     ]
    }
   ],
   "source": [
    "# Evaluate models\n",
    "results = {}\n",
    "for name, model in models.items():\n",
    "    rmse = evaluate_model(model, X_train, y_train)\n",
    "    results[name] = rmse\n",
    "\n",
    "# Display results\n",
    "print(\"Model performance (RMSE):\")\n",
    "for name, score in sorted(results.items(), key=lambda x: x[1]):\n",
    "    print(f\"{name}: RMSE = {score:.4f}\")"
   ]
  },
  {
   "cell_type": "code",
   "execution_count": 6,
   "metadata": {},
   "outputs": [
    {
     "data": {
      "image/png": "[encoded data removed]",
      "text/plain": [
       "<Figure size 1000x600 with 1 Axes>"
      ]
     },
     "metadata": {},
     "output_type": "display_data"
    }
   ],
   "source": [
    "# Plot model performance\n",
    "plt.figure(figsize=(10, 6))\n",
    "model_names = list(results.keys())\n",
    "rmse_scores = list(results.values())\n",
    "plt.barh(model_names, rmse_scores, color='skyblue')\n",
    "plt.xlabel(\"RMSE\")\n",
    "plt.title(\"Model Performance Comparison\")\n",
    "plt.gca().invert_yaxis()  # Invert y-axis for better readability\n",
    "plt.show()"
   ]
  },
  {
   "cell_type": "code",
   "execution_count": 7,
   "metadata": {},
   "outputs": [
    {
     "name": "stdout",
     "output_type": "stream",
     "text": [
      "Top 3 models:\n",
      "Random Forest: RMSE = 265.1284\n",
      "Gradient Boosting: RMSE = 372.4465\n",
      "XGBoost: RMSE = 372.8290\n"
     ]
    }
   ],
   "source": [
    "# Select top 3 models\n",
    "top_models = sorted(results.items(), key=lambda x: x[1])[:3]\n",
    "print(\"Top 3 models:\")\n",
    "for name, score in top_models:\n",
    "    print(f\"{name}: RMSE = {score:.4f}\")\n"
   ]
  },
  {
   "cell_type": "markdown",
   "metadata": {},
   "source": [
    "# Hyperparametrisation for Random Forest"
   ]
  },
  {
   "cell_type": "code",
   "execution_count": 9,
   "metadata": {},
   "outputs": [
    {
     "name": "stdout",
     "output_type": "stream",
     "text": [
      "Fitting 5 folds for each of 81 candidates, totalling 405 fits\n",
      "------- Random Forest - Hyperparameters Grid Search results ---------\n",
      "\n",
      "The best score (RMSE): 220.9873420933357\n",
      "The best parameters: {'max_depth': 30, 'min_samples_leaf': 1, 'min_samples_split': 2, 'n_estimators': 200}\n",
      "\n",
      "-----------------------------\n",
      "\n"
     ]
    }
   ],
   "source": [
    "# Define Random Forest model\n",
    "random_forest = RandomForestRegressor(random_state=42)\n",
    "\n",
    "# Define parameter grid for Random Forest\n",
    "param_grid_rf = {\n",
    "    'n_estimators': [50, 100, 200],\n",
    "    'max_depth': [10, 20, 30],\n",
    "    'min_samples_split': [2, 5, 10],\n",
    "    'min_samples_leaf': [1, 2, 4]\n",
    "}\n",
    "\n",
    "# Cross-validation strategy\n",
    "cv = KFold(n_splits=5, shuffle=True, random_state=42)\n",
    "\n",
    "# Grid search for Random Forest\n",
    "grid_search_rf = GridSearchCV(estimator=random_forest, param_grid=param_grid_rf, scoring='neg_root_mean_squared_error', cv=cv, verbose=1)\n",
    "\n",
    "# Perform grid search\n",
    "grid_search_rf.fit(X_train, y_train)\n",
    "\n",
    "# Best model and metrics\n",
    "best_rf = grid_search_rf.best_estimator_\n",
    "print(\"------- Random Forest - Hyperparameters Grid Search results ---------\\n\")\n",
    "print(\"The best score (RMSE):\", -grid_search_rf.best_score_)\n",
    "print(\"The best parameters:\", grid_search_rf.best_params_)\n",
    "print(\"\\n-----------------------------\\n\")\n"
   ]
  },
  {
   "cell_type": "markdown",
   "metadata": {},
   "source": [
    "# Hyperparametrization for Gradient Boosting"
   ]
  },
  {
   "cell_type": "code",
   "execution_count": 12,
   "metadata": {},
   "outputs": [
    {
     "name": "stdout",
     "output_type": "stream",
     "text": [
      "Fitting 5 folds for each of 27 candidates, totalling 135 fits\n",
      "------- Gradient Boosting - Hyperparameters Grid Search results ---------\n",
      "\n",
      "The best score (RMSE): 199.38665659904626\n",
      "The best parameters: {'learning_rate': 0.1, 'max_depth': 10, 'n_estimators': 200}\n",
      "\n",
      "-----------------------------\n",
      "\n"
     ]
    }
   ],
   "source": [
    "# Define Gradient Boosting model\n",
    "gradient_boosting = GradientBoostingRegressor(random_state=42)\n",
    "\n",
    "# Cross-validation strategy\n",
    "cv = KFold(n_splits=5, shuffle=True, random_state=42)\n",
    "\n",
    "# Define parameter grid for Gradient Boosting\n",
    "param_grid_gb = {\n",
    "    'n_estimators': [50, 100, 200],\n",
    "    'learning_rate': [0.01, 0.1, 0.2],\n",
    "    'max_depth': [3, 5, 10]\n",
    "}\n",
    "\n",
    "# Grid search for Gradient Boosting\n",
    "grid_search_gb = GridSearchCV(estimator=gradient_boosting, param_grid=param_grid_gb, scoring='neg_root_mean_squared_error', cv=cv, verbose=1)\n",
    "\n",
    "# Perform grid search\n",
    "grid_search_gb.fit(X_train, y_train)\n",
    "\n",
    "# Best model and metrics\n",
    "best_gb = grid_search_gb.best_estimator_\n",
    "print(\"------- Gradient Boosting - Hyperparameters Grid Search results ---------\\n\")\n",
    "print(\"The best score (RMSE):\", -grid_search_gb.best_score_)\n",
    "print(\"The best parameters:\", grid_search_gb.best_params_)\n",
    "print(\"\\n-----------------------------\\n\")\n"
   ]
  },
  {
   "cell_type": "markdown",
   "metadata": {},
   "source": [
    "# Hyperparametrization for XGBoost"
   ]
  },
  {
   "cell_type": "code",
   "execution_count": 10,
   "metadata": {},
   "outputs": [
    {
     "name": "stdout",
     "output_type": "stream",
     "text": [
      "Fitting 5 folds for each of 54 candidates, totalling 270 fits\n",
      "------- XGBoost - Hyperparameters Grid Search results ---------\n",
      "\n",
      "The best score (RMSE): 183.75626126053368\n",
      "The best parameters: {'learning_rate': 0.1, 'max_depth': 10, 'n_estimators': 200, 'subsample': 0.8}\n",
      "\n",
      "-----------------------------\n",
      "\n"
     ]
    }
   ],
   "source": [
    "# Define XGBoost model\n",
    "xgboost = xgb.XGBRegressor(objective='reg:squarederror', random_state=42)\n",
    "\n",
    "# Cross-validation strategy\n",
    "cv = KFold(n_splits=5, shuffle=True, random_state=42)\n",
    "\n",
    "# Define parameter grid for XGBoost\n",
    "param_grid_xgb = {\n",
    "    'n_estimators': [50, 100, 200],\n",
    "    'learning_rate': [0.01, 0.1, 0.2],\n",
    "    'max_depth': [3, 5, 10],\n",
    "    'subsample': [0.8, 1.0]\n",
    "}\n",
    "\n",
    "# Grid search for XGBoost\n",
    "grid_search_xgb = GridSearchCV(estimator=xgboost, param_grid=param_grid_xgb, scoring='neg_root_mean_squared_error', cv=cv, verbose=1)\n",
    "\n",
    "# Perform grid search\n",
    "grid_search_xgb.fit(X_train, y_train)\n",
    "\n",
    "# Best model and metrics\n",
    "best_xgb = grid_search_xgb.best_estimator_\n",
    "print(\"------- XGBoost - Hyperparameters Grid Search results ---------\\n\")\n",
    "print(\"The best score (RMSE):\", -grid_search_xgb.best_score_)\n",
    "print(\"The best parameters:\", grid_search_xgb.best_params_)\n",
    "print(\"\\n-----------------------------\\n\")\n"
   ]
  },
  {
   "cell_type": "markdown",
   "metadata": {},
   "source": [
    "# Comparison"
   ]
  },
  {
   "cell_type": "code",
   "execution_count": 12,
   "metadata": {},
   "outputs": [
    {
     "name": "stdout",
     "output_type": "stream",
     "text": [
      "--- Random Forest ---\n",
      "Mean Squared Error (MSE): 46332.02\n",
      "Root Mean Squared Error (RMSE): 215.25\n",
      "Mean Absolute Error (MAE): 116.36\n",
      "R-squared (R²): 0.96\n",
      "Explained Variance Score: 0.96\n",
      "\n",
      "--- Gradient Boosting ---\n",
      "Mean Squared Error (MSE): 35708.23\n",
      "Root Mean Squared Error (RMSE): 188.97\n",
      "Mean Absolute Error (MAE): 101.75\n",
      "R-squared (R²): 0.97\n",
      "Explained Variance Score: 0.97\n",
      "\n",
      "--- XGBoost ---\n",
      "Mean Squared Error (MSE): 31164.10\n",
      "Root Mean Squared Error (RMSE): 176.53\n",
      "Mean Absolute Error (MAE): 96.12\n",
      "R-squared (R²): 0.97\n",
      "Explained Variance Score: 0.97\n",
      "\n"
     ]
    }
   ],
   "source": [
    "# Test data predictions for best models\n",
    "y_pred_rf = best_rf.predict(X_test)\n",
    "y_pred_gb = best_gb.predict(X_test)\n",
    "y_pred_xgb = best_xgb.predict(X_test)\n",
    "\n",
    "# Metrics for each model\n",
    "def evaluate_metrics(y_true, y_pred, model_name):\n",
    "    mse = mean_squared_error(y_true, y_pred)\n",
    "    rmse = mse ** 0.5\n",
    "    mae = mean_absolute_error(y_true, y_pred)\n",
    "    r2 = r2_score(y_true, y_pred)\n",
    "    explained_variance = explained_variance_score(y_true, y_pred)\n",
    "    print(f\"--- {model_name} ---\")\n",
    "    print(f\"Mean Squared Error (MSE): {mse:.2f}\")\n",
    "    print(f\"Root Mean Squared Error (RMSE): {rmse:.2f}\")\n",
    "    print(f\"Mean Absolute Error (MAE): {mae:.2f}\")\n",
    "    print(f\"R-squared (R²): {r2:.2f}\")\n",
    "    print(f\"Explained Variance Score: {explained_variance:.2f}\")\n",
    "    print()\n",
    "\n",
    "evaluate_metrics(y_test, y_pred_rf, \"Random Forest\")\n",
    "evaluate_metrics(y_test, y_pred_gb, \"Gradient Boosting\")\n",
    "evaluate_metrics(y_test, y_pred_xgb, \"XGBoost\")\n"
   ]
  },
  {
   "cell_type": "markdown",
   "metadata": {},
   "source": [
    "# Feature Importance for RF and XGBoost"
   ]
  },
  {
   "cell_type": "code",
   "execution_count": 13,
   "metadata": {},
   "outputs": [
    {
     "name": "stdout",
     "output_type": "stream",
     "text": [
      "\n",
      "Feature Importances - Random Forest:\n",
      "hour: 0.7147\n",
      "t2: 0.0465\n",
      "weekday: 0.0451\n",
      "t1: 0.0443\n",
      "is_weekend: 0.0378\n",
      "hum: 0.0371\n",
      "is_holiday: 0.0204\n",
      "weather_code: 0.0165\n",
      "day: 0.0121\n",
      "wind_speed: 0.0093\n",
      "month: 0.0087\n",
      "season: 0.0074\n",
      "\n",
      "Feature Importances - XGBoost:\n",
      "hour: 0.3614\n",
      "is_weekend: 0.2733\n",
      "is_holiday: 0.2158\n",
      "t1: 0.0311\n",
      "season: 0.0251\n",
      "weather_code: 0.0247\n",
      "hum: 0.0157\n",
      "t2: 0.0144\n",
      "month: 0.0138\n",
      "weekday: 0.0118\n",
      "day: 0.0086\n",
      "wind_speed: 0.0043\n"
     ]
    }
   ],
   "source": [
    "# Feature importance for Random Forest\n",
    "rf_importances = best_rf.feature_importances_\n",
    "rf_features = {feature: importance for feature, importance in zip(features, rf_importances)}\n",
    "\n",
    "print(\"\\nFeature Importances - Random Forest:\")\n",
    "for feature, importance in sorted(rf_features.items(), key=lambda x: x[1], reverse=True):\n",
    "    print(f\"{feature}: {importance:.4f}\")\n",
    "\n",
    "# Feature importance for XGBoost\n",
    "xgb_importances = best_xgb.feature_importances_\n",
    "xgb_features = {feature: importance for feature, importance in zip(features, xgb_importances)}\n",
    "\n",
    "print(\"\\nFeature Importances - XGBoost:\")\n",
    "for feature, importance in sorted(xgb_features.items(), key=lambda x: x[1], reverse=True):\n",
    "    print(f\"{feature}: {importance:.4f}\")\n"
   ]
  },
  {
   "cell_type": "markdown",
   "metadata": {},
   "source": [
    "# Save best model"
   ]
  },
  {
   "cell_type": "code",
   "execution_count": 11,
   "metadata": {},
   "outputs": [
    {
     "name": "stdout",
     "output_type": "stream",
     "text": [
      "Model saved using pickle.\n"
     ]
    }
   ],
   "source": [
    "import pickle\n",
    "\n",
    "# Save the trained model\n",
    "with open(\"../models/xgboost_model.pkl\", \"wb\") as file:\n",
    "    pickle.dump(best_xgb, file)\n",
    "\n",
    "print(\"Model saved using pickle.\")"
   ]
  }
 ],
 "metadata": {
  "kernelspec": {
   "display_name": "ai",
   "language": "python",
   "name": "python3"
  },
  "language_info": {
   "codemirror_mode": {
    "name": "ipython",
    "version": 3
   },
   "file_extension": ".py",
   "mimetype": "text/x-python",
   "name": "python",
   "nbconvert_exporter": "python",
   "pygments_lexer": "ipython3",
   "version": "3.12.0"
  }
 },
 "nbformat": 4,
 "nbformat_minor": 2
}
